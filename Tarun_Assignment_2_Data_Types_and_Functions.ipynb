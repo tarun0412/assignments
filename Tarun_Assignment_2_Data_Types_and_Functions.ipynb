{
  "cells": [
    {
      "cell_type": "markdown",
      "id": "5fad3b2a",
      "metadata": {
        "id": "5fad3b2a"
      },
      "source": [
        "# Assessment - 2 Gradable\n",
        "\n",
        "- Each question carries 3 marks\n",
        "- Marks will be assigned in terms of:\n",
        "    \n",
        "    **1. Expected output**\n",
        "    \n",
        "    **2. Quality and Explainability of code**\n",
        "\n",
        "    ***Go back through the script and type a comment above each line explaining in English what it does.***\n",
        "\n",
        "    **3. Copied code, if found, will result in 0 marks for that question. To avoid this make as much comments in the code to explain the approach**"
      ]
    },
    {
      "cell_type": "markdown",
      "id": "03363a58",
      "metadata": {
        "id": "03363a58"
      },
      "source": [
        "### 1.\n",
        "\n",
        "Write a Python program to get a list, sorted in increasing order by the last element in each tuple from a given list of non-empty tuples.\n",
        "\n",
        "Sample List : [(2, 5), (1, 2), (4, 4), (2, 3), (2, 1)]\n",
        "Expected Result : [(2, 1), (1, 2), (2, 3), (4, 4), (2, 5)]"
      ]
    },
    {
      "cell_type": "code",
      "execution_count": 40,
      "id": "73d7418b",
      "metadata": {
        "id": "73d7418b"
      },
      "outputs": [],
      "source": [
        "l1 = [(2, 5), (1, 2), (4, 4), (2, 3), (2, 1)]\n",
        "\n",
        "l1.sort()\n"
      ]
    },
    {
      "cell_type": "markdown",
      "id": "3d5efe73",
      "metadata": {
        "id": "3d5efe73"
      },
      "source": [
        "### 2. \n",
        "\n",
        "Grab ``StarAgile`` from the following Dictionaries\n",
        "\n",
        "d_difficult = {'k1':[{'nest_key':['this is deep',['StarAgile']]}]}\n",
        "\n",
        "d_irritating = {'k1':[1,2,{'k2':['this is not easy',{'VeryIrriating':[1,2,['StarAgile']]}]}]}"
      ]
    },
    {
      "cell_type": "code",
      "execution_count": null,
      "id": "9fb35ce9",
      "metadata": {
        "id": "9fb35ce9"
      },
      "outputs": [],
      "source": [
        "d_difficult = {'k1':[{'nest_key':['this is deep',['StarAgile']]}]}\n",
        "\n",
        "d_irritating = {'k1':[1,2,{'k2':['this is not easy',{'VeryIrriating':[1,2,['StarAgile']]}]}]}\n",
        "\n"
      ]
    },
    {
      "cell_type": "markdown",
      "id": "0540a188",
      "metadata": {
        "id": "0540a188"
      },
      "source": [
        "### 3.\n",
        "\n",
        "Write a program to accept a string from the user and display characters that are present at an even index number.\n",
        "\n",
        "For example, str = \"judgemental\" so you should display ‘j’, ‘d’, ‘e’, ‘e’, ‘t’, ‘l’."
      ]
    },
    {
      "cell_type": "code",
      "execution_count": null,
      "id": "21f5b9dd",
      "metadata": {
        "id": "21f5b9dd",
        "colab": {
          "base_uri": "https://localhost:8080/"
        },
        "outputId": "901d8704-1ae2-43e4-8c54-c1bb3648e073"
      },
      "outputs": [
        {
          "output_type": "stream",
          "name": "stdout",
          "text": [
            "Enter the word: judgemental\n",
            "['jdeetl']\n",
            "Final Output expected is :  ','j','d','e','e','t','l','\n"
          ]
        }
      ],
      "source": [
        "string = input(\"Enter the word: \")                        # taking input from user by using input\n",
        "\n",
        "even_c = string[::2]                                      # using listing for slicing the word by colon 2 \n",
        "\n",
        "print(even_c.split())                                     # printing sliced word for final result\n",
        "\n",
        "finalstring = even_c.replace(\"\",\"','\")                    # final result expected is with comma and inverted commas so using replace to add between letters\n",
        "\n",
        "print(\"Final Output expected is : \", finalstring)         # printing final output which is expected"
      ]
    },
    {
      "cell_type": "markdown",
      "id": "e0884cde",
      "metadata": {
        "id": "e0884cde"
      },
      "source": [
        "4. \n",
        "\n",
        "Convert the Float Value of '3.8' into Integer, Complex, Binary and Hexidecimal format"
      ]
    },
    {
      "cell_type": "code",
      "execution_count": 32,
      "id": "99555c16",
      "metadata": {
        "id": "99555c16",
        "colab": {
          "base_uri": "https://localhost:8080/"
        },
        "outputId": "2e9eb2ba-a525-4ef9-b58c-9c400542b484"
      },
      "outputs": [
        {
          "output_type": "stream",
          "name": "stdout",
          "text": [
            "<class 'float'>\n",
            "3\n",
            "(3.8+0j)\n",
            "0x1.e666666666666p+1\n"
          ]
        }
      ],
      "source": [
        "fv = 3.8\n",
        "print(type(fv))\n",
        "\n",
        "print(int(fv))\n",
        "print(complex(fv))\n",
        "\n",
        "print(float.hex(fv))\n",
        "\n",
        "\n"
      ]
    },
    {
      "cell_type": "markdown",
      "id": "25187f2c",
      "metadata": {
        "id": "25187f2c"
      },
      "source": [
        "### 5. \n",
        "\n",
        "Write a program to accept five names from the user and store it in a Tuple 'T1'"
      ]
    },
    {
      "cell_type": "code",
      "execution_count": null,
      "id": "7e9e98e3",
      "metadata": {
        "id": "7e9e98e3"
      },
      "outputs": [],
      "source": []
    }
  ],
  "metadata": {
    "kernelspec": {
      "display_name": "Python 3 (ipykernel)",
      "language": "python",
      "name": "python3"
    },
    "language_info": {
      "codemirror_mode": {
        "name": "ipython",
        "version": 3
      },
      "file_extension": ".py",
      "mimetype": "text/x-python",
      "name": "python",
      "nbconvert_exporter": "python",
      "pygments_lexer": "ipython3",
      "version": "3.9.12"
    },
    "colab": {
      "provenance": []
    }
  },
  "nbformat": 4,
  "nbformat_minor": 5
}